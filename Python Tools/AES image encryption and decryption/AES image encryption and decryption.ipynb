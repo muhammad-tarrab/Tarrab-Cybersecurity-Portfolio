{
 "cells": [
  {
   "cell_type": "markdown",
   "metadata": {},
   "source": [
    "# AES Image Encryption and Decryption\n",
    "---\n",
    "This Jupyter Notebook demonstrates an AES image encryption and decryption application using the `pycryptodome` and `Pillow` libraries.\n",
    "The application allows the user to encrypt and decrypt image files with a specified password."
   ]
  },
  {
   "cell_type": "markdown",
   "metadata": {},
   "source": [
    "## Step 1: Installation\n",
    "Ensure you have Python 3.x installed. Install the required dependencies using pip:\n",
    "```bash\n",
    "pip install pycryptodome pillow\n",
    "```"
   ]
  },
  {
   "cell_type": "markdown",
   "metadata": {},
   "source": [
    "## Step 2: Import Libraries\n",
    "We need to import necessary libraries for encryption, decryption, and handling images."
   ]
  },
  {
   "cell_type": "code",
   "execution_count": 1,
   "metadata": {},
   "outputs": [],
   "source": [
    "from Crypto.Cipher import AES\n",
    "from Crypto.Protocol.KDF import scrypt\n",
    "from Crypto.Random import get_random_bytes\n",
    "from PIL import Image\n",
    "import os\n",
    "import io\n",
    "from IPython.display import display\n",
    "from ipywidgets import widgets, interact"
   ]
  },
  {
   "cell_type": "markdown",
   "metadata": {},
   "source": [
    "## Step 3: Define Encryption and Decryption Functions\n",
    "These functions will handle the encryption and decryption of image files using AES.\n",
    "\n",
    "### Encryption Function\n",
    "The `encrypt_image` function encrypts an image file using AES in GCM mode:\n",
    "- Generates a key and nonce from the password using `scrypt`\n",
    "- Reads the input image\n",
    "- Encrypts the image data\n",
    "- Writes the salt, nonce, tag, and ciphertext to the output file"
   ]
  },
  {
   "cell_type": "code",
   "execution_count": 2,
   "metadata": {},
   "outputs": [],
   "source": [
    "def encrypt_image(input_file, output_file, password):\n",
    "    # Generate a key and nonce from the password using scrypt\n",
    "    salt = get_random_bytes(16)\n",
    "    key = scrypt(password, salt, 32, N=2**14, r=8, p=1)\n",
    "    nonce = get_random_bytes(16)\n",
    "\n",
    "    # Initialize AES cipher in GCM mode\n",
    "    cipher = AES.new(key, AES.MODE_GCM, nonce=nonce)\n",
    "\n",
    "    # Read the input image\n",
    "    with open(input_file, 'rb') as f:\n",
    "        image_data = f.read()\n",
    "\n",
    "    # Encrypt the image data\n",
    "    ciphertext, tag = cipher.encrypt_and_digest(image_data)\n",
    "\n",
    "    # Ensure the output directory exists\n",
    "    os.makedirs(os.path.dirname(output_file), exist_ok=True)\n",
    "\n",
    "    # Write salt, nonce, tag, and ciphertext to the output file\n",
    "    with open(output_file, 'wb') as f:\n",
    "        f.write(salt)\n",
    "        f.write(nonce)\n",
    "        f.write(tag)\n",
    "        f.write(ciphertext)\n",
    "\n",
    "    print(f'Encryption successful. Encrypted image saved at: {output_file}')"
   ]
  },
  {
   "cell_type": "markdown",
   "metadata": {},
   "source": [
    "### Decryption Function\n",
    "The `decrypt_image` function decrypts an AES-encrypted image file:\n",
    "- Reads the salt, nonce, tag, and ciphertext from the input file\n",
    "- Generates a key from the password and salt using `scrypt`\n",
    "- Initializes the AES cipher in GCM mode\n",
    "- Decrypts the ciphertext\n",
    "- Saves the decrypted image"
   ]
  },
  {
   "cell_type": "code",
   "execution_count": 3,
   "metadata": {},
   "outputs": [],
   "source": [
    "def decrypt_image(input_file, output_file, password):\n",
    "    try:\n",
    "        # Read salt, nonce, tag, and ciphertext from the input file\n",
    "        with open(input_file, 'rb') as f:\n",
    "            salt = f.read(16)\n",
    "            nonce = f.read(16)\n",
    "            tag = f.read(16)\n",
    "            ciphertext = f.read()\n",
    "\n",
    "        # Generate key from password and salt using scrypt\n",
    "        key = scrypt(password, salt, 32, N=2**14, r=8, p=1)\n",
    "\n",
    "        # Initialize AES cipher in GCM mode\n",
    "        cipher = AES.new(key, AES.MODE_GCM, nonce=nonce)\n",
    "\n",
    "        # Decrypt the ciphertext\n",
    "        decrypted_data = cipher.decrypt_and_verify(ciphertext, tag)\n",
    "\n",
    "        # Create an image from decrypted data\n",
    "        decrypted_image = Image.open(io.BytesIO(decrypted_data))\n",
    "\n",
    "        # Ensure the output directory exists\n",
    "        os.makedirs(os.path.dirname(output_file), exist_ok=True)\n",
    "\n",
    "        # Save the decrypted image with a valid image extension\n",
    "        decrypted_image.save(output_file)\n",
    "\n",
    "        print(f'Decryption successful. Decrypted image saved at: {output_file}')\n",
    "\n",
    "    except ValueError:\n",
    "        print(\"Decryption failed. The provided key is incorrect. Please try again with the correct key.\")"
   ]
  },
  {
   "cell_type": "markdown",
   "metadata": {},
   "source": [
    "## Step 4: Interactive User Input\n",
    "These functions will handle user input for choosing the operation (encryption or decryption) and selecting the image file."
   ]
  },
  {
   "cell_type": "code",
   "execution_count": 4,
   "metadata": {},
   "outputs": [],
   "source": [
    "def get_operation_choice():\n",
    "    operation = widgets.ToggleButtons(\n",
    "        options=['Encrypt', 'Decrypt'],\n",
    "        description='Operation:',\n",
    "        disabled=False,\n",
    "        button_style='',\n",
    "        tooltips=['Encrypt an image', 'Decrypt an image']\n",
    "    )\n",
    "    display(operation)\n",
    "    return operation\n",
    "\n",
    "def get_image_path():\n",
    "    uploader = widgets.FileUpload(\n",
    "        accept='.png, .jpg, .jpeg, .bmp, .gif',\n",
    "        multiple=False\n",
    "    )\n",
    "    display(uploader)\n",
    "    return uploader"
   ]
  },
  {
   "cell_type": "markdown",
   "metadata": {},
   "source": [
    "## Step 5: Main Application Logic\n",
    "This part of the notebook integrates the above functions to perform the encryption or decryption based on user input."
   ]
  },
  {
   "cell_type": "code",
   "execution_count": 5,
   "metadata": {},
   "outputs": [],
   "source": [
    "operation_widget = get_operation_choice()\n",
    "image_uploader = get_image_path()\n",
    "\n",
    "def on_button_clicked(b):\n",
    "    operation = operation_widget.value\n",
    "    image_file = next(iter(image_uploader.value))  # Get the uploaded image file\n",
    "    image_content = image_uploader.value[image_file]['content']\n",
    "    image_path = f'./{image_file}'\n",
    "    with open(image_path, 'wb') as f:\n",
    "        f.write(image_content)\n",
    "\n",
    "    # Determine output file paths\n",
    "    file_directory = os.path.dirname(image_path)\n",
    "    image_filename = os.path.basename(image_path)\n",
    "    image_name, image_extension = os.path.splitext(image_filename)\n",
    "\n",
    "    if operation == 'Encrypt':\n",
    "        output_file = os.path.join(file_directory, image_name + '_encrypted.enc')\n",
    "    elif operation == 'Decrypt':\n",
    "        output_file = os.path.join(file_directory, image_name + '_decrypted.png')\n",
    "\n",
    "    # Get password\n",
    "    password = input(\"Enter password (must be at least 16 characters long): \").encode('utf-8')  # Convert to bytes\n",
    "\n",
    "    # Perform chosen operation\n",
    "    if operation == 'Encrypt':\n",
    "        encrypt_image(image_path, output_file, password)\n",
    "    elif operation == 'Decrypt':\n",
    "        decrypt_image(image_path, output_file, password)\n",
    "\n",
    "button = widgets.Button(description=\"Run\")\n",
    "button.on_click(on_button_clicked)\n",
    "display(button)"
   ]
  },
  {
   "cell_type": "markdown",
   "metadata": {},
   "source": [
    "## Usage Instructions\n",
    "1. Clone this repository from GitHub:\n",
    "```bash\n",
    "git clone https://github.com/muhammad-tarrab/Tarrab-Cybersecurity-Portfolio.git:\n",
    "```\n",
    "2. Navigate to the repository directory and install the required dependencies:\n",
    "```bash\n",
    "pip install pycryptodome pillow\n",
    "```\n",
    "3. Open the Jupyter Notebook:\n",
    "```bash\n",
    "jupyter notebook aes_image_encryption.ipynb\n",
    "```\n",
    "4. Follow the instructions in the notebook to encrypt and decrypt image files."
   ]
  },
  {
   "cell_type": "markdown",
   "metadata": {},
   "source": [
    "## License\n",
    "This project is licensed under the MIT License - see the [LICENSE](LICENSE) file for details."
   ]
  }
 ],
 "metadata": {
  "kernelspec": {
   "display_name": "Python 3",
   "language": "python",
   "name": "python3"
  },
  "language_info": {
   "codemirror_mode": {
    "name": "ipython",
    "version": 3
  },
   "file_extension": ".py",
   "mimetype": "text/x-python",
   "name": "python",
   "nbconvert_exporter": "python",
   "pygments_lexer": "ipython3",
   "version": "3.8.5"
  }
 },
 "nbformat": 4,
 "nbformat_minor": 4
}
