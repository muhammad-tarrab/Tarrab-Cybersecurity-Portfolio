{
 "cells": [
  {
   "cell_type": "markdown",
   "metadata": {},
   "source": [
    "# Caesar Cipher\n",
    "---\n",
    "This Jupyter Notebook demonstrates a Caesar cipher application using the tkinter library.\n",
    "The application allows the user to encrypt and decrypt messages with a specified shift value."
   ]
  },
  {
   "cell_type": "markdown",
   "metadata": {},
   "source": [
    "## Step 1: Installation\n",
    "Ensure you have Python 3.x installed. Install the required dependencies using pip:\n",
    "\n",
    "```bash\n",
    "pip install tk\n",
    "```\n"
   ]
  },
  {
   "cell_type": "markdown",
   "metadata": {},
   "source": [
    "## Step 2: Import Libraries\n",
    "We need to import the necessary libraries for GUI creation and message processing."
   ]
  },
  {
   "cell_type": "code",
   "execution_count": 1,
   "metadata": {},
   "outputs": [],
   "source": [
    "import tkinter as tk\n",
    "from tkinter import messagebox"
   ]
  },
  {
   "cell_type": "markdown",
   "metadata": {},
   "source": [
    "## Step 3: Define Encryption and Decryption Functions\n",
    "These functions will handle the encryption and decryption of messages using the Caesar cipher algorithm.\n",
    "\n",
    "### Encryption Function\n",
    "The `encrypted` function encrypts a message by shifting each letter by a specified value."
   ]
  },
  {
   "cell_type": "code",
   "execution_count": 2,
   "metadata": {},
   "outputs": [],
   "source": [
    "def encrypted(text, shift):\n",
    "    encrypted_text = \"\"\n",
    "    for char in text:\n",
    "        if char.isalpha():\n",
    "            ascii_offset = ord('A') if char.isupper() else ord('a')\n",
    "            encrypted_char = chr((ord(char) - ascii_offset + shift) % 26 + ascii_offset)\n",
    "            encrypted_text += encrypted_char\n",
    "        else:\n",
    "            encrypted_text += char\n",
    "    return encrypted_text"
   ]
  },
  {
   "cell_type": "markdown",
   "metadata": {},
   "source": [
    "### Decryption Function\n",
    "The `decrypt` function decrypts a message by shifting each letter back by the specified value."
   ]
  },
  {
   "cell_type": "code",
   "execution_count": 3,
   "metadata": {},
   "outputs": [],
   "source": [
    "def decrypt(text, shift):\n",
    "    decrypted_text = \"\"\n",
    "    for char in text:\n",
    "        if char.isalpha():\n",
    "            ascii_offset = ord('A') if char.isupper() else ord('a')\n",
    "            decrypted_char = chr((ord(char) - ascii_offset - shift) % 26 + ascii_offset)\n",
    "            decrypted_text += decrypted_char\n",
    "        else:\n",
    "            decrypted_text += char\n",
    "    return decrypted_text"
   ]
  },
  {
   "cell_type": "markdown",
   "metadata": {},
   "source": [
    "## Step 4: Define the Process Message Function\n",
    "This function handles the GUI logic for processing the user's input and displaying the result."
   ]
  },
  {
   "cell_type": "code",
   "execution_count": 4,
   "metadata": {},
   "outputs": [],
   "source": [
    "def process_message():\n",
    "    shift_value = shift_entry.get()\n",
    "    if not shift_value.isdigit():\n",
    "        messagebox.showerror(\"Error\", \"Shift value must be an integer.\")\n",
    "        shift_entry.delete(0, tk.END)  # Clear the entry field\n",
    "        return\n",
    "\n",
    "    shift = int(shift_value)\n",
    "    message_type = message_type_var.get()\n",
    "    message = message_entry.get()\n",
    "\n",
    "    if message_type == 1:\n",
    "        encrypted_message = encrypted(message, shift)\n",
    "        messagebox.showinfo(\"Encrypted Message\", f\"Encrypted message: {encrypted_message}\")\n",
    "    else:\n",
    "        decrypted_message = decrypt(message, shift)\n",
    "        messagebox.showinfo(\"Decrypted Message\", f\"Decrypted message: {decrypted_message}\")\n",
    "\n",
    "    # Clear entry fields\n",
    "    message_entry.delete(0, tk.END)\n",
    "    shift_entry.delete(0, tk.END)\n",
    "\n",
    "    # Set focus on message entry field\n",
    "    message_entry.focus_set()"
   ]
  },
  {
   "cell_type": "markdown",
   "metadata": {},
   "source": [
    "## Step 5: Create the GUI\n",
    "This part of the notebook sets up the tkinter GUI for the Caesar cipher application."
   ]
  },
  {
   "cell_type": "code",
   "execution_count": 5,
   "metadata": {},
   "outputs": [],
   "source": [
    "# Create main window\n",
    "root = tk.Tk()\n",
    "root.title(\"Caesar Cipher\")\n",
    "root.resizable(True, True)\n",
    "\n",
    "# Message type\n",
    "message_type_var = tk.IntVar()\n",
    "tk.Label(root, text=\"Message type:\").grid(row=0, column=0, sticky=\"w\")\n",
    "tk.Radiobutton(root, text=\"Encrypt\", variable=message_type_var, value=1).grid(row=0, column=1, sticky=\"w\")\n",
    "tk.Radiobutton(root, text=\"Decrypt\", variable=message_type_var, value=2).grid(row=0, column=2, sticky=\"w\")\n",
    "\n",
    "# Message\n",
    "tk.Label(root, text=\"Message:\").grid(row=1, column=0, sticky=\"w\")\n",
    "message_entry = tk.Entry(root)\n",
    "message_entry.grid(row=1, column=1, columnspan=2)\n",
    "message_entry.focus_set()  # Set focus on message entry field by default\n",
    "\n",
    "# Shift\n",
    "tk.Label(root, text=\"Shift value:\").grid(row=2, column=0, sticky=\"w\")\n",
    "shift_entry = tk.Entry(root)\n",
    "shift_entry.grid(row=2, column=1, columnspan=2)\n",
    "\n",
    "# Bind \"Tab\" key to move between entry fields\n",
    "message_entry.bind(\"<Tab>\", lambda e: shift_entry.focus_set())\n",
    "shift_entry.bind(\"<Tab>\", lambda e: message_entry.focus_set())\n",
    "\n",
    "# Process button\n",
    "process_button = tk.Button(root, text=\"Process\", command=process_message)\n",
    "process_button.grid(row=3, column=1)\n",
    "\n",
    "root.mainloop()"
   ]
  },
  {
   "cell_type": "markdown",
   "metadata": {},
   "source": [
    "## Usage Instructions\n",
    "1. Clone this repository from GitHub:\n",
    "\n",
    "```bash\n",
    "git clone https://github.com/muhammad-tarrab/Tarrab-Cybersecurity-Portfolio.git:\n",
    "```\n",
    "\n",
    "2. Navigate to the repository directory and install the required dependencies:\n",
    "\n",
    "```bash\n",
    "pip install tk\n",
    "```\n",
    "\n",
    "3. Run the application:\n",
    "\n",
    "```bash\n",
    "python caesar_cipher.py\n",
    "```\n",
    "\n",
    "4. Use the GUI to encrypt or decrypt messages with the specified shift value."
   ]
  },
  {
   "cell_type": "markdown",
   "metadata": {},
   "source": [
    "## License\n",
    "This project is licensed under the MIT License - see the [LICENSE](LICENSE) file for details."
   ]
  }
 ],
 "metadata": {
  "kernelspec": {
   "display_name": "Python 3",
   "language": "python",
   "name": "python3"
  },
  "language_info": {
   "codemirror_mode": {
    "name": "ipython",
    "version": 3
   },
   "file_extension": ".py",
   "mimetype": "text/x-python",
   "name": "python",
   "nbconvert_exporter": "python",
   "pygments_lexer": "ipython3",
   "version": "3.8.5"
  }
 },
 "nbformat": 4,
 "nbformat_minor": 4
}
