{
 "cells": [
  {
   "cell_type": "code",
   "execution_count": 5,
   "metadata": {},
   "outputs": [],
   "source": [
    "message_entry = tk.Entry(root)\n",
    "message_entry.grid(row=1, column=1, columnspan=2)\n",
    "message_entry.focus_set()  # Set focus on message entry field by default\n",
    "\n",
    "# Shift\n",
    "tk.Label(root, text=\"Shift value:\").grid(row=2, column=0, sticky=\"w\")\n",
    "shift_entry = tk.Entry(root)\n",
    "shift_entry.grid(row=2, column=1, columnspan=2)\n",
    "\n",
    "# Bind \"Tab\" key to move between entry fields\n",
    "message_entry.bind(\"<Tab>\", lambda e: shift_entry.focus_set())\n",
    "shift_entry.bind(\"<Tab>\", lambda e: message_entry.focus_set())\n",
    "\n",
    "# Process button\n",
    "process_button = tk.Button(root, text=\"Process\", command=process_message)\n",
    "process_button.grid(row=3, column=1)\n",
    "\n",
    "root.mainloop()"
   ]
  },
  {
   "cell_type": "markdown",
   "metadata": {},
   "source": [
    "## Usage Instructions\n",
    "1. Run this Jupyter Notebook to start the Caesar Cipher application.\n",
    "2. In the GUI, select the operation (Encrypt or Decrypt).\n",
    "3. Enter the message you want to process.\n",
    "4. Enter the shift value (an integer).\n",
    "5. Click the 'Process' button to get the encrypted or decrypted message.\n"
   ]
  },
  {
   "cell_type": "markdown",
   "metadata": {},
   "source": [
    "## License\n",
    "This project is licensed under the MIT License - see the [LICENSE](LICENSE) file for details."
   ]
  }
 ],
 "metadata": {
  "kernelspec": {
   "display_name": "Python 3",
   "language": "python",
   "name": "python3"
  },
  "language_info": {
   "codemirror_mode": {
    "name": "ipython",
    "version": 3
   },
   "file_extension": ".py",
   "mimetype": "text/x-python",
   "name": "python",
   "nbconvert_exporter": "python",
   "pygments_lexer": "ipython3",
   "version": "3.8.5"
  }
 },
 "nbformat": 4,
 "nbformat_minor": 4
}
