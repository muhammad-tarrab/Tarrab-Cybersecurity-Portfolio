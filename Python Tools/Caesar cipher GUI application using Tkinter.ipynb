{
 "cells": [
  {
   "cell_type": "markdown",
   "metadata": {},
   "source": [
    "# Caesar Cipher Application\n",
    "---\n",
    "This Jupyter Notebook demonstrates a simple Caesar Cipher application using Tkinter for the GUI.\n",
    "The application allows the user to encrypt and decrypt messages with a specified shift value."
   ]
  },
  {
   "cell_type": "markdown",
   "metadata": {},
   "source": [
    "## Import Libraries\n",
    "First, we import necessary libraries for building our GUI and handling user interactions."
   ]
  },
  {
   "cell_type": "code",
   "execution_count": 1,
   "metadata": {},
   "outputs": [],
   "source": [
    "import tkinter as tk\n",
    "from tkinter import messagebox"
   ]
  },
  {
   "cell_type": "markdown",
   "metadata": {},
   "source": [
    "## Define Encryption and Decryption Functions\n",
    "These functions handle the logic for encrypting and decrypting messages using the Caesar Cipher technique."
   ]
  },
  {
   "cell_type": "code",
   "execution_count": 2,
   "metadata": {},
   "outputs": [],
   "source": [
    "def encrypted(text, shift):\n",
    "    \"\"\"\n",
    "    Encrypts the given text using the Caesar Cipher.\n",
    "    \"\"\"\n",
    "    encrypted_text = \"\"\n",
    "    for char in text:\n",
    "        if char.isalpha():\n",
    "            ascii_offset = ord('A') if char.isupper() else ord('a')\n",
    "            encrypted_char = chr((ord(char) - ascii_offset + shift) % 26 + ascii_offset)\n",
    "            encrypted_text += encrypted_char\n",
    "        else:\n",
    "            encrypted_text += char\n",
    "    return encrypted_text\n",
    "\n",
    "def decrypt(text, shift):\n",
    "    \"\"\"\n",
    "    Decrypts the given text using the Caesar Cipher.\n",
    "    \"\"\"\n",
    "    decrypted_text = \"\"\n",
    "    for char in text:\n",
    "        if char.isalpha():\n",
    "            ascii_offset = ord('A') if char.isupper() else ord('a')\n",
    "            decrypted_char = chr((ord(char) - ascii_offset - shift) % 26 + ascii_offset)\n",
    "            decrypted_text += decrypted_char\n",
    "        else:\n",
    "            decrypted_text += char\n",
    "    return decrypted_text"
   ]
  },
  {
   "cell_type": "markdown",
   "metadata": {},
   "source": [
    "## Define the Function to Process the Message\n",
    "This function processes user input to either encrypt or decrypt a message based on selected options."
   ]
  },
  {
   "cell_type": "code",
   "execution_count": 3,
   "metadata": {},
   "outputs": [],
   "source": [
    "def process_message():\n",
    "    \"\"\"\n",
    "    Processes the message based on user input (encrypt or decrypt).\n",
    "    \"\"\"\n",
    "    shift_value = shift_entry.get()\n",
    "    if not shift_value.isdigit():\n",
    "        messagebox.showerror(\"Error\", \"Shift value must be an integer.\")\n",
    "        shift_entry.delete(0, tk.END)  # Clear the entry field\n",
    "        return\n",
    "\n",
    "    shift = int(shift_value)\n",
    "    message_type = message_type_var.get()\n",
    "    message = message_entry.get()\n",
    "\n",
    "    if message_type == 1:\n",
    "        encrypted_message = encrypted(message, shift)\n",
    "        messagebox.showinfo(\"Encrypted Message\", f\"Encrypted message: {encrypted_message}\")\n",
    "    else:\n",
    "        decrypted_message = decrypt(message, shift)\n",
    "        messagebox.showinfo(\"Decrypted Message\", f\"Decrypted message: {decrypted_message}\")\n",
    "\n",
    "    # Clear entry fields\n",
    "    message_entry.delete(0, tk.END)\n",
    "    shift_entry.delete(0, tk.END)\n",
    "\n",
    "    # Set focus on message entry field\n",
    "    message_entry.focus_set()\n"
   ]
  },
  {
   "cell_type": "markdown",
   "metadata": {},
   "source": [
    "## Create the Main Application Window\n",
    "Here, we create the main window for our application with a dark theme for better visibility."
   ]
  },
  {
   "cell_type": "code",
   "execution_count": 4,
   "metadata": {},
   "outputs": [],
   "source": [
    "# Create main window\n",
    "root = tk.Tk()\n",
    "root.title(\"Caesar Cipher\")\n",
    "root.resizable(True, True)\n",
    "root.configure(bg='black')  # Set background color to black\n"
   ]
  },
  {
   "cell_type": "markdown",
   "metadata": {},
   "source": [
    "## Create GUI Elements\n",
    "Define the graphical user interface elements such as labels, entry fields, radio buttons, and buttons."
   ]
  },
  {
   "cell_type": "code",
   "execution_count": 5,
   "metadata": {},
   "outputs": [],
   "source": [
    "# Message type\n",
    "message_type_var = tk.IntVar()\n",
    "tk.Label(root, text=\"Message type:\", bg='black', fg='white').grid(row=0, column=0, sticky=\"w\")\n",
    "tk.Radiobutton(root, text=\"Encrypt\", variable=message_type_var, value=1, bg='black', fg='white').grid(row=0, column=1, sticky=\"w\")\n",
    "tk.Radiobutton(root, text=\"Decrypt\", variable=message_type_var, value=2, bg='black', fg='white').grid(row=0, column=2, sticky=\"w\")\n",
    "\n",
    "# Message\n",
    "tk.Label(root, text=\"Message:\", bg='black', fg='white').grid(row=1, column=0, sticky=\"w\")\n",
    "message_entry = tk.Entry(root)\n",
    "message_entry.grid(row=1, column=1, columnspan=2)\n",
    "message_entry.focus_set()  # Set focus on message entry field by default\n",
    "\n",
    "# Shift\n",
    "tk.Label(root, text=\"Shift value:\", bg='black', fg='white').grid(row=2, column=0, sticky=\"w\")\n",
    "shift_entry = tk.Entry(root)\n",
    "shift_entry.grid(row=2, column=1, columnspan=2)\n",
    "\n",
    "# Bind \"Tab\" key to move between entry fields\n",
    "message_entry.bind(\"<Tab>\", lambda e: shift_entry.focus_set())\n",
    "shift_entry.bind(\"<Tab>\", lambda e: message_entry.focus_set())\n",
    "\n",
    "# Process button\n",
    "process_button = tk.Button(root, text=\"Process\", command=process_message, bg='black', fg='white')\n",
    "process_button.grid(row=3, column=1)\n",
    "\n",
    "# Start GUI main loop\n",
    "root.mainloop()"
   ]
  }
 ],
 "metadata": {
  "kernelspec": {
   "display_name": "Python 3",
   "language": "python",
   "name": "python3"
  },
  "language_info": {
   "codemirror_mode": {
    "name": "ipython",
    "version": 3
   },
   "file_extension": ".py",
   "mimetype": "text/x-python",
   "name": "python",
   "nbconvert_exporter": "python",
   "pygments_lexer": "ipython3",
   "version": "3.12.1"
  }
 },
 "nbformat": 4,
 "nbformat_minor": 4
}
