{
 "cells": [
  {
   "cell_type": "markdown",
   "metadata": {},
   "source": [
    "# Packet Sniffer\n",
    "---\n",
    "This Jupyter Notebook demonstrates a packet sniffer application using the `scapy` library.\n",
    "The application captures and analyzes network packets, displaying information about each packet.\n",
    "A disclaimer is also provided to emphasize the educational purpose of the tool."
   ]
  },
  {
   "cell_type": "markdown",
   "metadata": {},
   "source": [
    "## Import Libraries"
   ]
  },
  {
   "cell_type": "code",
   "execution_count": 1,
   "metadata": {},
   "outputs": [],
   "source": [
    "import time\n",
    "from scapy.all import sniff, IP, TCP, UDP, ICMP, Raw"
   ]
  },
  {
   "cell_type": "markdown",
   "metadata": {},
   "source": [
    "## Define Packet Sniffer Functions\n",
    "### Packet Callback Function\n",
    "The `packet_callback` function processes each packet captured, extracting and displaying relevant information."
   ]
  },
  {
   "cell_type": "code",
   "execution_count": 2,
   "metadata": {},
   "outputs": [],
   "source": [
    "# Initialize a counter for packet indexing\n",
    "packet_counter = 0\n",
    "\n",
    "# This function is called for each packet captured\n",
    "def packet_callback(packet):\n",
    "    global packet_counter\n",
    "    packet_counter += 1\n",
    "    \n",
    "    # Check if the packet has an IP layer\n",
    "    if IP in packet:\n",
    "        ip_layer = packet[IP]\n",
    "        \n",
    "        # Initialize an empty list to store the packet information\n",
    "        packet_info = [f\"Packet #{packet_counter}\"]  # Add packet index\n",
    "        \n",
    "        # Add source and destination IP addresses\n",
    "        packet_info.append(f\"Source IP: {ip_layer.src}\")\n",
    "        packet_info.append(f\"Destination IP: {ip_layer.dst}\")\n",
    "        \n",
    "        # Check if the packet has a TCP layer\n",
    "        if TCP in packet:\n",
    "            tcp_layer = packet[TCP]\n",
    "            packet_info.append(\"Protocol: TCP\")\n",
    "            packet_info.append(f\"Source Port: {tcp_layer.sport}\")\n",
    "            packet_info.append(f\"Destination Port: {tcp_layer.dport}\")\n",
    "        \n",
    "        # Check if the packet has a UDP layer\n",
    "        elif UDP in packet:\n",
    "            udp_layer = packet[UDP]\n",
    "            packet_info.append(\"Protocol: UDP\")\n",
    "            packet_info.append(f\"Source Port: {udp_layer.sport}\")\n",
    "            packet_info.append(f\"Destination Port: {udp_layer.dport}\")\n",
    "        \n",
    "        # Check if the packet has an ICMP layer\n",
    "        elif ICMP in packet:\n",
    "            packet_info.append(\"Protocol: ICMP\")\n",
    "        \n",
    "        # Check if the packet has a Raw layer (payload data)\n",
    "        if Raw in packet:\n",
    "            packet_info.append(f\"Payload: {packet[Raw].load}\")\n",
    "        \n",
    "        # Print the packet information with a separator\n",
    "        print(\"\\n\".join(packet_info))\n",
    "        print(\"-\" * 50)  # Separator line\n",
    "        \n",
    "        # Delay to slow down the output\n",
    "        time.sleep(1)"
   ]
  },
  {
   "cell_type": "markdown",
   "metadata": {},
   "source": [
    "## Disclaimer\n",
    "The `disclaimer` function prints a disclaimer for the user."
   ]
  },
  {
   "cell_type": "code",
   "execution_count": 3,
   "metadata": {},
   "outputs": [],
   "source": [
    "# This function prints a disclaimer\n",
    "def disclaimer():\n",
    "    print(\"This tool is for educational purposes only. Unauthorized use is prohibited.\")\n",
    "\n",
    "# Print the disclaimer\n",
    "disclaimer()"
   ]
  },
  {
   "cell_type": "markdown",
   "metadata": {},
   "source": [
    "## Start Packet Sniffing\n",
    "The `sniff` function starts capturing packets and calls `packet_callback` for each packet captured."
   ]
  },
  {
   "cell_type": "code",
   "execution_count": 4,
   "metadata": {},
   "outputs": [],
   "source": [
    "# Start capturing packets and call packet_callback for each packet captured\n",
    "sniff(prn=packet_callback, count=0)"
   ]
  },
  {
   "cell_type": "markdown",
   "metadata": {},
   "source": [
    "## Usage Instructions\n",
    "### Downloading and Running the Code\n",
    "1. **Install Git:** If you don't have Git installed, download and install it from [git-scm.com](https://git-scm.com/).\n",
    "2. **Clone the Repository:**\n",
    "   - Open a terminal or command prompt.\n",
    "   - Navigate to the directory where you want to clone the repository.\n",
    "   - Run the following command to clone the repository:\n",
    "     ```sh\n",
    "     git clone https://github.com/muhammad-tarrab/Tarrab-Cybersecurity-Portfolio.git\n",
    "     ```\n",
    "3. **Navigate to the Cloned Repository:**\n",
    "   ```sh\n",
    "   cd Tarrab-Cybersecurity-Portfolio/Python-Tools\n",
    "   ```\n",
    "4. **Run the Script:**\n",
    "   - Ensure you have the required libraries installed. You can install them using pip:\n",
    "     ```sh\n",
    "     pip install scapy\n",
    "     ```\n",
    "   - Run the Jupyter Notebook:\n",
    "     ```sh\n",
    "     jupyter notebook Packet_Sniffer.ipynb\n",
    "     ```\n",
    "5. **Follow the Prompts:** The notebook will automatically capture and display packet information."
   ]
  }
 ],
 "metadata": {
  "kernelspec": {
   "display_name": "Python 3",
   "language": "python",
   "name": "python3"
  },
  "language_info": {
   "codemirror_mode": {
    "name": "ipython",
    "version": 3
   },
   "file_extension": ".py",
   "mimetype": "text/x-python",
   "name": "python",
   "nbconvert_exporter": "python",
   "pygments_lexer": "ipython3",
   "version": "3.8.5"
  }
 },
 "nbformat": 4,
 "nbformat_minor": 5
}

