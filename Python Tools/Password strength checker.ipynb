{
 "cells": [
  {
   "cell_type": "markdown",
   "metadata": {},
   "source": [
    "# Password Strength Checker\n",
    "---\n",
    "This section of the Jupyter Notebook demonstrates a password strength checker using the `re` library for regular expressions.\n",
    "The application evaluates the strength of a password based on certain criteria."
   ]
  },
  {
   "cell_type": "markdown",
   "metadata": {},
   "source": [
    "## Step 1: Import Libraries\n",
    "We need to import the `re` library for regular expression operations."
   ]
  },
  {
   "cell_type": "code",
   "execution_count": 1,
   "metadata": {},
   "outputs": [],
   "source": [
    "import re"
   ]
  },
  {
   "cell_type": "markdown",
   "metadata": {},
   "source": [
    "## Step 2: Define the Password Strength Checker Function\n",
    "The function `check_password_strength` checks the strength of a password based on its length, and the presence of uppercase letters, lowercase letters, numbers, and special characters."
   ]
  },
  {
   "cell_type": "code",
   "execution_count": 2,
   "metadata": {},
   "outputs": [],
   "source": [
    "def check_password_strength(password):\n",
    "    # Criteria for a strong password\n",
    "    length_criteria = len(password) >= 8\n",
    "    uppercase_criteria = bool(re.search(r'[A-Z]', password))  # Matches any uppercase letter\n",
    "    lowercase_criteria = bool(re.search(r'[a-z]', password))  # Matches any lowercase letter\n",
    "    number_criteria = bool(re.search(r'[0-9]', password))     # Matches any digit\n",
    "    special_char_criteria = bool(re.search(r'[^\w]', password))  # Matches any special character\n",
    "\n",
    "    # Checking the number of criteria met\n",
    "    criteria_met = sum([\n",
    "        length_criteria,\n",
    "        uppercase_criteria,\n",
    "        lowercase_criteria,\n",
    "        number_criteria,\n",
    "        special_char_criteria\n",
    "    ])\n",
    "\n",
    "    # Feedback based on criteria met\n",
    "    if criteria_met == 5:\n",
    "        feedback = \"Very Strong\"\n",
    "    elif criteria_met == 4:\n",
    "        feedback = \"Strong\"\n",
    "    elif criteria_met == 3:\n",
    "        feedback = \"Moderate\"\n",
    "    elif criteria_met == 2:\n",
    "        feedback = \"Weak\"\n",
    "    else:\n",
    "        feedback = \"Very Weak\"\n",
    "\n",
    "    # Detailed feedback\n",
    "    details = {\n",
    "        \"Length\": length_criteria,\n",
    "        \"Uppercase Letters\": uppercase_criteria,\n",
    "        \"Lowercase Letters\": lowercase_criteria,\n",
    "        \"Numbers\": number_criteria,\n",
    "        \"Special Characters\": special_char_criteria\n",
    "    }\n",
    "\n",
    "    return feedback, details"
   ]
  },
  {
   "cell_type": "markdown",
   "metadata": {},
   "source": [
    "## Step 3: Example Usage\n",
    "An example of how to use the `check_password_strength` function to evaluate the strength of a user-provided password."
   ]
  },
  {
   "cell_type": "code",
   "execution_count": 3,
   "metadata": {},
   "outputs": [],
   "source": [
    "# Example usage\n",
    "password = input(\"Enter a password to check its strength: \")\n",
    "strength, details = check_password_strength(password)\n",
    "print(f\"Password Strength: {strength}\")\n",
    "print(\"Details:\")\n",
    "for criterion, met in details.items():\n",
    "    print(f\" - {criterion}: {'Met' if met else 'Not Met'}\")"
   ]
  }
 ],
 "metadata": {
  "kernelspec": {
   "display_name": "Python 3",
   "language": "python",
   "name": "python3"
  },
  "language_info": {
   "codemirror_mode": {
    "name": "ipython",
    "version": 3
   },
   "file_extension": ".py",
   "mimetype": "text/x-python",
   "name": "python",
   "nbconvert_exporter": "python",
   "pygments_lexer": "ipython3",
   "version": "3.8.5"
  }
 },
 "nbformat": 4,
 "nbformat_minor": 4
}
