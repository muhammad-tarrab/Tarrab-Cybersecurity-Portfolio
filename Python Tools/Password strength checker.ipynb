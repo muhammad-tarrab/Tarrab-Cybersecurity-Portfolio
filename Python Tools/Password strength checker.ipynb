{
 "cells": [
  {
   "cell_type": "markdown",
   "metadata": {},
   "source": [
    "# Image Encryption and Decryption\n",
    "This notebook demonstrates image encryption and decryption using AES encryption."
   ]
  },
  {
   "cell_type": "code",
   "execution_count": 1,
   "metadata": {},
   "outputs": [],
   "source": [
    "from Crypto.Cipher import AES\n",
    "from Crypto.Protocol.KDF import scrypt\n",
    "from Crypto.Random import get_random_bytes\n",
    "from Crypto.Util.Padding import pad, unpad\n",
    "import os\n",
    "from PIL import Image\n",
    "import io"
   ]
  },
  {
   "cell_type": "code",
   "execution_count": 2,
   "metadata": {},
   "outputs": [],
   "source": [
    "# Function to encrypt an image\n",
    "def encrypt_image(input_file, output_file, password):\n",
    "    # Generate a key and nonce from the password using scrypt\n",
    "    salt = get_random_bytes(16)\n",
    "    key = scrypt(password, salt, 32, N=2**14, r=8, p=1)\n",
    "    nonce = get_random_bytes(16)\n",
    "\n",
    "    # Initialize AES cipher in GCM mode\n",
    "    cipher = AES.new(key, AES.MODE_GCM, nonce=nonce)\n",
    "\n",
    "    # Read the input image\n",
    "    with open(input_file, 'rb') as f:\n",
    "        image_data = f.read()\n",
    "\n",
    "    # Encrypt the image data\n",
    "    ciphertext, tag = cipher.encrypt_and_digest(image_data)\n",
    "\n",
    "    # Ensure the output directory exists\n",
    "    os.makedirs(os.path.dirname(output_file), exist_ok=True)\n",
    "\n",
    "    # Write salt, nonce, tag, and ciphertext to the output file\n",
    "    with open(output_file, 'wb') as f:\n",
    "        f.write(salt)\n",
    "        f.write(nonce)\n",
    "        f.write(tag)\n",
    "        f.write(ciphertext)\n",
    "\n",
    "    print(f'Encryption successful. Encrypted image saved at: {output_file}')"
   ]
  },
  {
   "cell_type": "code",
   "execution_count": 3,
   "metadata": {},
   "outputs": [],
   "source": [
    "# Function to decrypt an image\n",
    "def decrypt_image(input_file, output_file, password):\n",
    "    try:\n",
    "        # Read salt, nonce, tag, and ciphertext from the input file\n",
    "        with open(input_file, 'rb') as f:\n",
    "            salt = f.read(16)\n",
    "            nonce = f.read(16)\n",
    "            tag = f.read(16)\n",
    "            ciphertext = f.read()\n",
    "\n",
    "        # Generate key from password and salt using scrypt\n",
    "        key = scrypt(password, salt, 32, N=2**14, r=8, p=1)\n",
    "\n",
    "        # Initialize AES cipher in GCM mode\n",
    "        cipher = AES.new(key, AES.MODE_GCM, nonce=nonce)\n",
    "\n",
    "        # Decrypt the ciphertext\n",
    "        decrypted_data = cipher.decrypt_and_verify(ciphertext, tag)\n",
    "\n",
    "        # Create an image from decrypted data\n",
    "        decrypted_image = Image.open(io.BytesIO(decrypted_data))\n",
    "\n",
    "        # Ensure the output directory exists\n",
    "        os.makedirs(os.path.dirname(output_file), exist_ok=True)\n",
    "\n",
    "        # Save the decrypted image with a valid image extension\n",
    "        decrypted_image.save(output_file)\n",
    "\n",
    "        print(f'Decryption successful. Decrypted image saved at: {output_file}')\n",
    "\n",
    "    except ValueError:\n",
    "        print(\"Decryption failed. The provided key is incorrect. Please try again with the correct key.\")"
   ]
  },
  {
   "cell_type": "code",
   "execution_count": 4,
   "metadata": {},
   "outputs": [],
   "source": [
    "# Function to get user input for operation choice (encryption or decryption)\n",
    "def get_operation_choice():\n",
    "    while True:\n",
    "        choice = input(\"Enter 'E' for encryption or 'D' for decryption: \").strip().upper()\n",
    "        if choice == 'E' or choice == 'D':\n",
    "            return choice\n",
    "        else:\n",
    "            print(\"Invalid choice. Please enter 'E' for encryption or 'D' for decryption.\")"
   ]
  },
  {
   "cell_type": "code",
   "execution_count": 5,
   "metadata": {},
   "outputs": [],
   "source": [
    "# Function to get user input for image file path\n",
    "def get_image_path():\n",
    "    while True:\n",
    "        image_path = input(\"Enter the full path of the image file: \").strip()\n",
    "        if os.path.isfile(image_path):\n",
    "            return image_path\n",
    "        else:\n",
    "            print(f\"File not found at '{image_path}'. Please enter a valid image file path.\")"
   ]
  },
  {
   "cell_type": "code",
   "execution_count": 6,
   "metadata": {},
   "outputs": [],
   "source": [
    "# Main execution\n",
    "if __name__ == '__main__':\n",
    "    # Get operation choice (encryption or decryption)\n",
    "    operation = get_operation_choice()\n",
    "\n",
    "    # Get image file path\n",
    "    image_path = get_image_path()\n",
    "\n",
    "    # Determine output file paths\n",
    "    file_directory = os.path.dirname(image_path)\n",
    "    image_filename = os.path.basename(image_path)\n",
    "    image_name, image_extension = os.path.splitext(image_filename)\n",
    "\n",
    "    if operation == 'E':\n",
    "        output_file = os.path.join(file_directory, image_name + '_encrypted.enc')\n",
    "    elif operation == 'D':\n",
    "        output_file = os.path.join(file_directory, image_name + '_decrypted.png')\n",
    "\n",
    "    # Get password\n",
    "    password = input(\"Enter password (must be at least 16 characters long): \").encode('utf-8')  # Convert to bytes\n",
    "\n",
    "    # Perform chosen operation\n",
    "    if operation == 'E':\n",
    "        encrypt_image(image_path, output_file, password)\n",
    "    elif operation == 'D':\n",
    "        decrypt_image(image_path, output_file, password)"
   ]
  },
  {
   "cell_type": "markdown",
   "metadata": {},
   "source": [
    "### Usage Instructions\n",
    "1. Run the notebook (`Cell > Run All`).\n",
    "2. Enter 'E' to encrypt or 'D' to decrypt when prompted.\n",
    "3. Enter the full path of the image file.\n",
    "4. Enter a password of at least 16 characters.\n",
    "5. The notebook will perform the chosen operation and save the result."
   ]
  }
 ],
 "metadata": {
  "kernelspec": {
   "display_name": "Python 3",
   "language": "python",
   "name": "python3"
  },
  "language_info": {
   "codemirror_mode": {
    "name": "ipython",
    "version": 3
   },
   "file_extension": ".py",
   "mimetype": "text/x-python",
   "name": "python",
   "nbconvert_exporter": "python",
   "pygments_lexer": "ipython3",
   "version": "3.8.5"
  }
 },
 "nbformat": 4,
 "nbformat_minor": 5
}
